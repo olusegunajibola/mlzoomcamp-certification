{
 "cells": [
  {
   "metadata": {
    "ExecuteTime": {
     "end_time": "2024-10-16T15:05:50.354319Z",
     "start_time": "2024-10-16T15:05:49.023749Z"
    }
   },
   "cell_type": "code",
   "source": [
    "# !pip install wget\n",
    "import wget\n",
    "import zipfile\n",
    "import os\n",
    "import numpy as np\n",
    "import pandas as pd\n",
    "import seaborn as sns\n",
    "import matplotlib.pyplot as plt\n",
    "from sklearn.metrics import mutual_info_score, accuracy_score\n",
    "from sklearn.model_selection import train_test_split\n",
    "from sklearn.preprocessing import OneHotEncoder\n",
    "from sklearn.linear_model import LogisticRegression\n",
    "from onehot_encoder import onehot_encoding"
   ],
   "id": "1b3fc1ef9c3823a6",
   "outputs": [],
   "execution_count": 1
  },
  {
   "cell_type": "code",
   "id": "initial_id",
   "metadata": {
    "collapsed": true,
    "ExecuteTime": {
     "end_time": "2024-10-16T15:05:50.366866Z",
     "start_time": "2024-10-16T15:05:50.361320Z"
    }
   },
   "source": "# !wget https://archive.ics.uci.edu/static/public/222/bank+marketing.zip",
   "outputs": [],
   "execution_count": 2
  },
  {
   "metadata": {},
   "cell_type": "markdown",
   "source": "Data acquisition",
   "id": "5f9a6eef25dd2e17"
  },
  {
   "metadata": {
    "ExecuteTime": {
     "end_time": "2024-10-16T15:05:50.565478Z",
     "start_time": "2024-10-16T15:05:50.559378Z"
    }
   },
   "cell_type": "code",
   "source": "# file = wget.download('https://archive.ics.uci.edu/static/public/222/bank+marketing.zip')",
   "id": "5179d8f715aa93dc",
   "outputs": [],
   "execution_count": 3
  },
  {
   "metadata": {
    "ExecuteTime": {
     "end_time": "2024-10-16T15:05:50.593262Z",
     "start_time": "2024-10-16T15:05:50.587661Z"
    }
   },
   "cell_type": "code",
   "source": [
    "# with zipfile.ZipFile(\"C:/Users/USER\\PycharmProjects\\mlzoomcamp-certification\\data/bank+marketing.zip\", 'r') as zip_ref:\n",
    "#     zip_ref.extractall()"
   ],
   "id": "aef96fbb3952ae42",
   "outputs": [],
   "execution_count": 4
  },
  {
   "metadata": {
    "ExecuteTime": {
     "end_time": "2024-10-16T15:05:50.645828Z",
     "start_time": "2024-10-16T15:05:50.622437Z"
    }
   },
   "cell_type": "code",
   "source": "os.getcwd()",
   "id": "141d9d1356826274",
   "outputs": [
    {
     "data": {
      "text/plain": [
       "'C:\\\\Users\\\\USER\\\\PycharmProjects\\\\mlzoomcamp-certification'"
      ]
     },
     "execution_count": 5,
     "metadata": {},
     "output_type": "execute_result"
    }
   ],
   "execution_count": 5
  },
  {
   "metadata": {
    "ExecuteTime": {
     "end_time": "2024-10-16T15:05:50.686945Z",
     "start_time": "2024-10-16T15:05:50.679464Z"
    }
   },
   "cell_type": "code",
   "source": [
    "# with zipfile.ZipFile(\"./data/bank.zip\", 'r') as zip_ref:\n",
    "#     zip_ref.extract('bank.csv', \"./data/\") "
   ],
   "id": "a13a20e036a7712c",
   "outputs": [],
   "execution_count": 6
  },
  {
   "metadata": {
    "ExecuteTime": {
     "end_time": "2024-10-16T15:05:50.775830Z",
     "start_time": "2024-10-16T15:05:50.720114Z"
    }
   },
   "cell_type": "code",
   "source": [
    "df = pd.read_csv(\"./data/bank.csv\", sep = \";\")\n",
    "df.sample(6)"
   ],
   "id": "d51afdc1f668ec37",
   "outputs": [
    {
     "data": {
      "text/plain": [
       "      age          job   marital  education default  balance housing loan  \\\n",
       "478    35     services   married  secondary      no     1453     yes   no   \n",
       "1767   51   management    single   tertiary      no      297     yes   no   \n",
       "3740   36  blue-collar  divorced    primary      no     -308     yes   no   \n",
       "4099   33   management    single   tertiary      no       71      no   no   \n",
       "2655   42   technician   married  secondary      no     4945     yes   no   \n",
       "251    32   management   married   tertiary      no     2349      no   no   \n",
       "\n",
       "       contact  day month  duration  campaign  pdays  previous poutcome    y  \n",
       "478    unknown   28   may       199         1     -1         0  unknown   no  \n",
       "1767  cellular   15   may       415         4    375         1  failure  yes  \n",
       "3740  cellular   12   may       725         1     -1         0  unknown  yes  \n",
       "4099  cellular   22   aug       107         6     -1         0  unknown   no  \n",
       "2655  cellular    2   mar       311         2     -1         0  unknown  yes  \n",
       "251   cellular   14   aug       134         5     -1         0  unknown   no  "
      ],
      "text/html": [
       "<div>\n",
       "<style scoped>\n",
       "    .dataframe tbody tr th:only-of-type {\n",
       "        vertical-align: middle;\n",
       "    }\n",
       "\n",
       "    .dataframe tbody tr th {\n",
       "        vertical-align: top;\n",
       "    }\n",
       "\n",
       "    .dataframe thead th {\n",
       "        text-align: right;\n",
       "    }\n",
       "</style>\n",
       "<table border=\"1\" class=\"dataframe\">\n",
       "  <thead>\n",
       "    <tr style=\"text-align: right;\">\n",
       "      <th></th>\n",
       "      <th>age</th>\n",
       "      <th>job</th>\n",
       "      <th>marital</th>\n",
       "      <th>education</th>\n",
       "      <th>default</th>\n",
       "      <th>balance</th>\n",
       "      <th>housing</th>\n",
       "      <th>loan</th>\n",
       "      <th>contact</th>\n",
       "      <th>day</th>\n",
       "      <th>month</th>\n",
       "      <th>duration</th>\n",
       "      <th>campaign</th>\n",
       "      <th>pdays</th>\n",
       "      <th>previous</th>\n",
       "      <th>poutcome</th>\n",
       "      <th>y</th>\n",
       "    </tr>\n",
       "  </thead>\n",
       "  <tbody>\n",
       "    <tr>\n",
       "      <th>478</th>\n",
       "      <td>35</td>\n",
       "      <td>services</td>\n",
       "      <td>married</td>\n",
       "      <td>secondary</td>\n",
       "      <td>no</td>\n",
       "      <td>1453</td>\n",
       "      <td>yes</td>\n",
       "      <td>no</td>\n",
       "      <td>unknown</td>\n",
       "      <td>28</td>\n",
       "      <td>may</td>\n",
       "      <td>199</td>\n",
       "      <td>1</td>\n",
       "      <td>-1</td>\n",
       "      <td>0</td>\n",
       "      <td>unknown</td>\n",
       "      <td>no</td>\n",
       "    </tr>\n",
       "    <tr>\n",
       "      <th>1767</th>\n",
       "      <td>51</td>\n",
       "      <td>management</td>\n",
       "      <td>single</td>\n",
       "      <td>tertiary</td>\n",
       "      <td>no</td>\n",
       "      <td>297</td>\n",
       "      <td>yes</td>\n",
       "      <td>no</td>\n",
       "      <td>cellular</td>\n",
       "      <td>15</td>\n",
       "      <td>may</td>\n",
       "      <td>415</td>\n",
       "      <td>4</td>\n",
       "      <td>375</td>\n",
       "      <td>1</td>\n",
       "      <td>failure</td>\n",
       "      <td>yes</td>\n",
       "    </tr>\n",
       "    <tr>\n",
       "      <th>3740</th>\n",
       "      <td>36</td>\n",
       "      <td>blue-collar</td>\n",
       "      <td>divorced</td>\n",
       "      <td>primary</td>\n",
       "      <td>no</td>\n",
       "      <td>-308</td>\n",
       "      <td>yes</td>\n",
       "      <td>no</td>\n",
       "      <td>cellular</td>\n",
       "      <td>12</td>\n",
       "      <td>may</td>\n",
       "      <td>725</td>\n",
       "      <td>1</td>\n",
       "      <td>-1</td>\n",
       "      <td>0</td>\n",
       "      <td>unknown</td>\n",
       "      <td>yes</td>\n",
       "    </tr>\n",
       "    <tr>\n",
       "      <th>4099</th>\n",
       "      <td>33</td>\n",
       "      <td>management</td>\n",
       "      <td>single</td>\n",
       "      <td>tertiary</td>\n",
       "      <td>no</td>\n",
       "      <td>71</td>\n",
       "      <td>no</td>\n",
       "      <td>no</td>\n",
       "      <td>cellular</td>\n",
       "      <td>22</td>\n",
       "      <td>aug</td>\n",
       "      <td>107</td>\n",
       "      <td>6</td>\n",
       "      <td>-1</td>\n",
       "      <td>0</td>\n",
       "      <td>unknown</td>\n",
       "      <td>no</td>\n",
       "    </tr>\n",
       "    <tr>\n",
       "      <th>2655</th>\n",
       "      <td>42</td>\n",
       "      <td>technician</td>\n",
       "      <td>married</td>\n",
       "      <td>secondary</td>\n",
       "      <td>no</td>\n",
       "      <td>4945</td>\n",
       "      <td>yes</td>\n",
       "      <td>no</td>\n",
       "      <td>cellular</td>\n",
       "      <td>2</td>\n",
       "      <td>mar</td>\n",
       "      <td>311</td>\n",
       "      <td>2</td>\n",
       "      <td>-1</td>\n",
       "      <td>0</td>\n",
       "      <td>unknown</td>\n",
       "      <td>yes</td>\n",
       "    </tr>\n",
       "    <tr>\n",
       "      <th>251</th>\n",
       "      <td>32</td>\n",
       "      <td>management</td>\n",
       "      <td>married</td>\n",
       "      <td>tertiary</td>\n",
       "      <td>no</td>\n",
       "      <td>2349</td>\n",
       "      <td>no</td>\n",
       "      <td>no</td>\n",
       "      <td>cellular</td>\n",
       "      <td>14</td>\n",
       "      <td>aug</td>\n",
       "      <td>134</td>\n",
       "      <td>5</td>\n",
       "      <td>-1</td>\n",
       "      <td>0</td>\n",
       "      <td>unknown</td>\n",
       "      <td>no</td>\n",
       "    </tr>\n",
       "  </tbody>\n",
       "</table>\n",
       "</div>"
      ]
     },
     "execution_count": 7,
     "metadata": {},
     "output_type": "execute_result"
    }
   ],
   "execution_count": 7
  },
  {
   "metadata": {
    "ExecuteTime": {
     "end_time": "2024-10-16T15:05:50.980634Z",
     "start_time": "2024-10-16T15:05:50.968872Z"
    }
   },
   "cell_type": "code",
   "source": "df = df.drop(columns = 'default')",
   "id": "6f047d59de05e5f",
   "outputs": [],
   "execution_count": 8
  },
  {
   "metadata": {
    "ExecuteTime": {
     "end_time": "2024-10-16T15:05:51.187634Z",
     "start_time": "2024-10-16T15:05:51.122920Z"
    }
   },
   "cell_type": "code",
   "source": "df.info()",
   "id": "6fdf22fbbdff9cdb",
   "outputs": [
    {
     "name": "stdout",
     "output_type": "stream",
     "text": [
      "<class 'pandas.core.frame.DataFrame'>\n",
      "RangeIndex: 4521 entries, 0 to 4520\n",
      "Data columns (total 16 columns):\n",
      " #   Column     Non-Null Count  Dtype \n",
      "---  ------     --------------  ----- \n",
      " 0   age        4521 non-null   int64 \n",
      " 1   job        4521 non-null   object\n",
      " 2   marital    4521 non-null   object\n",
      " 3   education  4521 non-null   object\n",
      " 4   balance    4521 non-null   int64 \n",
      " 5   housing    4521 non-null   object\n",
      " 6   loan       4521 non-null   object\n",
      " 7   contact    4521 non-null   object\n",
      " 8   day        4521 non-null   int64 \n",
      " 9   month      4521 non-null   object\n",
      " 10  duration   4521 non-null   int64 \n",
      " 11  campaign   4521 non-null   int64 \n",
      " 12  pdays      4521 non-null   int64 \n",
      " 13  previous   4521 non-null   int64 \n",
      " 14  poutcome   4521 non-null   object\n",
      " 15  y          4521 non-null   object\n",
      "dtypes: int64(7), object(9)\n",
      "memory usage: 565.3+ KB\n"
     ]
    }
   ],
   "execution_count": 9
  },
  {
   "metadata": {},
   "cell_type": "markdown",
   "source": [
    "In this dataset our desired target for classification task will be y variable - has the client subscribed a term deposit or not.\n",
    "\n",
    "What is the most frequent observation (mode) for the column education?"
   ],
   "id": "f37611baf31bace7"
  },
  {
   "metadata": {
    "ExecuteTime": {
     "end_time": "2024-10-16T15:05:51.461793Z",
     "start_time": "2024-10-16T15:05:51.428178Z"
    }
   },
   "cell_type": "code",
   "source": "df.education.value_counts()",
   "id": "32b72de622fb7ae8",
   "outputs": [
    {
     "data": {
      "text/plain": [
       "education\n",
       "secondary    2306\n",
       "tertiary     1350\n",
       "primary       678\n",
       "unknown       187\n",
       "Name: count, dtype: int64"
      ]
     },
     "execution_count": 10,
     "metadata": {},
     "output_type": "execute_result"
    }
   ],
   "execution_count": 10
  },
  {
   "metadata": {},
   "cell_type": "markdown",
   "source": "What are the two features that have the biggest correlation?",
   "id": "f6202dd2db2feeb4"
  },
  {
   "metadata": {
    "ExecuteTime": {
     "end_time": "2024-10-16T15:05:53.612311Z",
     "start_time": "2024-10-16T15:05:51.654645Z"
    }
   },
   "cell_type": "code",
   "source": [
    "numerical_df = df.select_dtypes(include=['int64', 'float64'])  # Select only numerical columns\n",
    "corr_matrix = numerical_df.corr()\n",
    "\n",
    "plt.figure(figsize=(8, 8))\n",
    "sns.heatmap(corr_matrix, annot=True, cmap='coolwarm')  # heatmap\n",
    "plt.show()  # plot"
   ],
   "id": "12d2beb212e5c6b2",
   "outputs": [
    {
     "data": {
      "text/plain": [
       "<Figure size 800x800 with 2 Axes>"
      ],
      "image/png": "[encoded data removed]"
     },
     "metadata": {},
     "output_type": "display_data"
    }
   ],
   "execution_count": 11
  },
  {
   "metadata": {},
   "cell_type": "markdown",
   "source": "Mutual information score",
   "id": "b5183f7c6965a3a0"
  },
  {
   "metadata": {
    "ExecuteTime": {
     "end_time": "2024-10-16T15:05:53.758938Z",
     "start_time": "2024-10-16T15:05:53.736022Z"
    }
   },
   "cell_type": "code",
   "source": [
    "# Split the data into train/val/test sets with 60%/20%/20% distribution\n",
    "X = df.drop('y', axis=1)  # features\n",
    "y = df['y']  # target variable\n",
    "X_train_val, X_test, y_train_val, y_test = train_test_split(X, y, test_size=0.2, random_state=42)\n",
    "X_train, X_val, y_train, y_val = train_test_split(X_train_val, y_train_val, test_size=0.25, random_state=42)"
   ],
   "id": "246c7582b568f9b7",
   "outputs": [],
   "execution_count": 12
  },
  {
   "metadata": {
    "ExecuteTime": {
     "end_time": "2024-10-16T15:05:53.807407Z",
     "start_time": "2024-10-16T15:05:53.796922Z"
    }
   },
   "cell_type": "code",
   "source": [
    "# train/val/test sets with 60%/20%/20% distribution\n",
    "X.shape, X_train.shape, X_val.shape, X_test.shape"
   ],
   "id": "37307c6b1a61aba2",
   "outputs": [
    {
     "data": {
      "text/plain": [
       "((4521, 15), (2712, 15), (904, 15), (905, 15))"
      ]
     },
     "execution_count": 13,
     "metadata": {},
     "output_type": "execute_result"
    }
   ],
   "execution_count": 13
  },
  {
   "metadata": {
    "ExecuteTime": {
     "end_time": "2024-10-16T15:05:54.060597Z",
     "start_time": "2024-10-16T15:05:53.920733Z"
    }
   },
   "cell_type": "code",
   "source": [
    "# mutual information score between y and each categorical variable in the training set\n",
    "categorical_cols = X_train.select_dtypes(include=['object']).columns\n",
    "mutual_info_scores = {}\n",
    "for col in categorical_cols:\n",
    "    score  = mutual_info_score(y_train, X_train[col])\n",
    "    mutual_info_scores[col] = round(score, 2)"
   ],
   "id": "31a09d8e726b9ab0",
   "outputs": [],
   "execution_count": 14
  },
  {
   "metadata": {
    "ExecuteTime": {
     "end_time": "2024-10-16T15:05:54.169261Z",
     "start_time": "2024-10-16T15:05:54.155321Z"
    }
   },
   "cell_type": "code",
   "source": [
    "# mutual information scores\n",
    "print(mutual_info_scores)"
   ],
   "id": "b9c8068e455247d4",
   "outputs": [
    {
     "name": "stdout",
     "output_type": "stream",
     "text": [
      "{'job': 0.01, 'marital': 0.0, 'education': 0.0, 'housing': 0.01, 'loan': 0.0, 'contact': 0.01, 'month': 0.02, 'poutcome': 0.03}\n"
     ]
    }
   ],
   "execution_count": 15
  },
  {
   "metadata": {},
   "cell_type": "markdown",
   "source": "Sort the mutual info score.",
   "id": "ac84b4cd6a9cfb39"
  },
  {
   "metadata": {
    "ExecuteTime": {
     "end_time": "2024-10-16T15:05:54.327188Z",
     "start_time": "2024-10-16T15:05:54.317239Z"
    }
   },
   "cell_type": "code",
   "source": [
    "sorted_mutual_info_scores = dict(sorted(mutual_info_scores.items(), key=lambda item: item[1], reverse=True))\n",
    "\n",
    "print(sorted_mutual_info_scores)"
   ],
   "id": "720f2b5d1f639457",
   "outputs": [
    {
     "name": "stdout",
     "output_type": "stream",
     "text": [
      "{'poutcome': 0.03, 'month': 0.02, 'job': 0.01, 'housing': 0.01, 'contact': 0.01, 'marital': 0.0, 'education': 0.0, 'loan': 0.0}\n"
     ]
    }
   ],
   "execution_count": 16
  },
  {
   "metadata": {},
   "cell_type": "markdown",
   "source": "Linear regression",
   "id": "14c74ee8c903cfaf"
  },
  {
   "metadata": {},
   "cell_type": "code",
   "outputs": [],
   "execution_count": null,
   "source": "",
   "id": "b63dd5a9f4e737f5"
  },
  {
   "metadata": {
    "ExecuteTime": {
     "end_time": "2024-10-16T15:05:54.465077Z",
     "start_time": "2024-10-16T15:05:54.446852Z"
    }
   },
   "cell_type": "code",
   "source": [
    "categorical_cols = X.select_dtypes(include=['object']).columns\n",
    "categorical_cols"
   ],
   "id": "3fd43b56a17317ef",
   "outputs": [
    {
     "data": {
      "text/plain": [
       "Index(['job', 'marital', 'education', 'housing', 'loan', 'contact', 'month',\n",
       "       'poutcome'],\n",
       "      dtype='object')"
      ]
     },
     "execution_count": 17,
     "metadata": {},
     "output_type": "execute_result"
    }
   ],
   "execution_count": 17
  },
  {
   "metadata": {
    "ExecuteTime": {
     "end_time": "2024-10-16T15:05:54.656165Z",
     "start_time": "2024-10-16T15:05:54.578237Z"
    }
   },
   "cell_type": "code",
   "source": [
    "data = X.copy() # make a copy of the original dataframe (df)\n",
    "\n",
    "column_to_dummy = categorical_cols # columns to one-hot encode\n",
    "\n",
    "data = onehot_encoding(column_to_dummy, data) # perform operation\n",
    "\n",
    "data.head()"
   ],
   "id": "d971947fdf64b123",
   "outputs": [
    {
     "data": {
      "text/plain": [
       "   age  balance  day  duration  campaign  pdays  previous  job_admin.  \\\n",
       "0   30     1787   19        79         1     -1         0       False   \n",
       "1   33     4789   11       220         1    339         4       False   \n",
       "2   35     1350   16       185         1    330         1       False   \n",
       "3   30     1476    3       199         4     -1         0       False   \n",
       "4   59        0    5       226         1     -1         0       False   \n",
       "\n",
       "   job_blue-collar  job_entrepreneur  ...  month_jun  month_mar  month_may  \\\n",
       "0            False             False  ...      False      False      False   \n",
       "1            False             False  ...      False      False       True   \n",
       "2            False             False  ...      False      False      False   \n",
       "3            False             False  ...       True      False      False   \n",
       "4             True             False  ...      False      False       True   \n",
       "\n",
       "   month_nov  month_oct  month_sep  poutcome_failure  poutcome_other  \\\n",
       "0      False       True      False             False           False   \n",
       "1      False      False      False              True           False   \n",
       "2      False      False      False              True           False   \n",
       "3      False      False      False             False           False   \n",
       "4      False      False      False             False           False   \n",
       "\n",
       "   poutcome_success  poutcome_unknown  \n",
       "0             False              True  \n",
       "1             False             False  \n",
       "2             False             False  \n",
       "3             False              True  \n",
       "4             False              True  \n",
       "\n",
       "[5 rows x 49 columns]"
      ],
      "text/html": [
       "<div>\n",
       "<style scoped>\n",
       "    .dataframe tbody tr th:only-of-type {\n",
       "        vertical-align: middle;\n",
       "    }\n",
       "\n",
       "    .dataframe tbody tr th {\n",
       "        vertical-align: top;\n",
       "    }\n",
       "\n",
       "    .dataframe thead th {\n",
       "        text-align: right;\n",
       "    }\n",
       "</style>\n",
       "<table border=\"1\" class=\"dataframe\">\n",
       "  <thead>\n",
       "    <tr style=\"text-align: right;\">\n",
       "      <th></th>\n",
       "      <th>age</th>\n",
       "      <th>balance</th>\n",
       "      <th>day</th>\n",
       "      <th>duration</th>\n",
       "      <th>campaign</th>\n",
       "      <th>pdays</th>\n",
       "      <th>previous</th>\n",
       "      <th>job_admin.</th>\n",
       "      <th>job_blue-collar</th>\n",
       "      <th>job_entrepreneur</th>\n",
       "      <th>...</th>\n",
       "      <th>month_jun</th>\n",
       "      <th>month_mar</th>\n",
       "      <th>month_may</th>\n",
       "      <th>month_nov</th>\n",
       "      <th>month_oct</th>\n",
       "      <th>month_sep</th>\n",
       "      <th>poutcome_failure</th>\n",
       "      <th>poutcome_other</th>\n",
       "      <th>poutcome_success</th>\n",
       "      <th>poutcome_unknown</th>\n",
       "    </tr>\n",
       "  </thead>\n",
       "  <tbody>\n",
       "    <tr>\n",
       "      <th>0</th>\n",
       "      <td>30</td>\n",
       "      <td>1787</td>\n",
       "      <td>19</td>\n",
       "      <td>79</td>\n",
       "      <td>1</td>\n",
       "      <td>-1</td>\n",
       "      <td>0</td>\n",
       "      <td>False</td>\n",
       "      <td>False</td>\n",
       "      <td>False</td>\n",
       "      <td>...</td>\n",
       "      <td>False</td>\n",
       "      <td>False</td>\n",
       "      <td>False</td>\n",
       "      <td>False</td>\n",
       "      <td>True</td>\n",
       "      <td>False</td>\n",
       "      <td>False</td>\n",
       "      <td>False</td>\n",
       "      <td>False</td>\n",
       "      <td>True</td>\n",
       "    </tr>\n",
       "    <tr>\n",
       "      <th>1</th>\n",
       "      <td>33</td>\n",
       "      <td>4789</td>\n",
       "      <td>11</td>\n",
       "      <td>220</td>\n",
       "      <td>1</td>\n",
       "      <td>339</td>\n",
       "      <td>4</td>\n",
       "      <td>False</td>\n",
       "      <td>False</td>\n",
       "      <td>False</td>\n",
       "      <td>...</td>\n",
       "      <td>False</td>\n",
       "      <td>False</td>\n",
       "      <td>True</td>\n",
       "      <td>False</td>\n",
       "      <td>False</td>\n",
       "      <td>False</td>\n",
       "      <td>True</td>\n",
       "      <td>False</td>\n",
       "      <td>False</td>\n",
       "      <td>False</td>\n",
       "    </tr>\n",
       "    <tr>\n",
       "      <th>2</th>\n",
       "      <td>35</td>\n",
       "      <td>1350</td>\n",
       "      <td>16</td>\n",
       "      <td>185</td>\n",
       "      <td>1</td>\n",
       "      <td>330</td>\n",
       "      <td>1</td>\n",
       "      <td>False</td>\n",
       "      <td>False</td>\n",
       "      <td>False</td>\n",
       "      <td>...</td>\n",
       "      <td>False</td>\n",
       "      <td>False</td>\n",
       "      <td>False</td>\n",
       "      <td>False</td>\n",
       "      <td>False</td>\n",
       "      <td>False</td>\n",
       "      <td>True</td>\n",
       "      <td>False</td>\n",
       "      <td>False</td>\n",
       "      <td>False</td>\n",
       "    </tr>\n",
       "    <tr>\n",
       "      <th>3</th>\n",
       "      <td>30</td>\n",
       "      <td>1476</td>\n",
       "      <td>3</td>\n",
       "      <td>199</td>\n",
       "      <td>4</td>\n",
       "      <td>-1</td>\n",
       "      <td>0</td>\n",
       "      <td>False</td>\n",
       "      <td>False</td>\n",
       "      <td>False</td>\n",
       "      <td>...</td>\n",
       "      <td>True</td>\n",
       "      <td>False</td>\n",
       "      <td>False</td>\n",
       "      <td>False</td>\n",
       "      <td>False</td>\n",
       "      <td>False</td>\n",
       "      <td>False</td>\n",
       "      <td>False</td>\n",
       "      <td>False</td>\n",
       "      <td>True</td>\n",
       "    </tr>\n",
       "    <tr>\n",
       "      <th>4</th>\n",
       "      <td>59</td>\n",
       "      <td>0</td>\n",
       "      <td>5</td>\n",
       "      <td>226</td>\n",
       "      <td>1</td>\n",
       "      <td>-1</td>\n",
       "      <td>0</td>\n",
       "      <td>False</td>\n",
       "      <td>True</td>\n",
       "      <td>False</td>\n",
       "      <td>...</td>\n",
       "      <td>False</td>\n",
       "      <td>False</td>\n",
       "      <td>True</td>\n",
       "      <td>False</td>\n",
       "      <td>False</td>\n",
       "      <td>False</td>\n",
       "      <td>False</td>\n",
       "      <td>False</td>\n",
       "      <td>False</td>\n",
       "      <td>True</td>\n",
       "    </tr>\n",
       "  </tbody>\n",
       "</table>\n",
       "<p>5 rows × 49 columns</p>\n",
       "</div>"
      ]
     },
     "execution_count": 18,
     "metadata": {},
     "output_type": "execute_result"
    }
   ],
   "execution_count": 18
  },
  {
   "metadata": {
    "ExecuteTime": {
     "end_time": "2024-10-16T15:07:17.275843Z",
     "start_time": "2024-10-16T15:07:17.253264Z"
    }
   },
   "cell_type": "code",
   "source": "data.info()",
   "id": "ae9e8ff2125c1396",
   "outputs": [
    {
     "name": "stdout",
     "output_type": "stream",
     "text": [
      "<class 'pandas.core.frame.DataFrame'>\n",
      "RangeIndex: 4521 entries, 0 to 4520\n",
      "Data columns (total 49 columns):\n",
      " #   Column               Non-Null Count  Dtype\n",
      "---  ------               --------------  -----\n",
      " 0   age                  4521 non-null   int64\n",
      " 1   balance              4521 non-null   int64\n",
      " 2   day                  4521 non-null   int64\n",
      " 3   duration             4521 non-null   int64\n",
      " 4   campaign             4521 non-null   int64\n",
      " 5   pdays                4521 non-null   int64\n",
      " 6   previous             4521 non-null   int64\n",
      " 7   job_admin.           4521 non-null   bool \n",
      " 8   job_blue-collar      4521 non-null   bool \n",
      " 9   job_entrepreneur     4521 non-null   bool \n",
      " 10  job_housemaid        4521 non-null   bool \n",
      " 11  job_management       4521 non-null   bool \n",
      " 12  job_retired          4521 non-null   bool \n",
      " 13  job_self-employed    4521 non-null   bool \n",
      " 14  job_services         4521 non-null   bool \n",
      " 15  job_student          4521 non-null   bool \n",
      " 16  job_technician       4521 non-null   bool \n",
      " 17  job_unemployed       4521 non-null   bool \n",
      " 18  job_unknown          4521 non-null   bool \n",
      " 19  marital_divorced     4521 non-null   bool \n",
      " 20  marital_married      4521 non-null   bool \n",
      " 21  marital_single       4521 non-null   bool \n",
      " 22  education_primary    4521 non-null   bool \n",
      " 23  education_secondary  4521 non-null   bool \n",
      " 24  education_tertiary   4521 non-null   bool \n",
      " 25  education_unknown    4521 non-null   bool \n",
      " 26  housing_no           4521 non-null   bool \n",
      " 27  housing_yes          4521 non-null   bool \n",
      " 28  loan_no              4521 non-null   bool \n",
      " 29  loan_yes             4521 non-null   bool \n",
      " 30  contact_cellular     4521 non-null   bool \n",
      " 31  contact_telephone    4521 non-null   bool \n",
      " 32  contact_unknown      4521 non-null   bool \n",
      " 33  month_apr            4521 non-null   bool \n",
      " 34  month_aug            4521 non-null   bool \n",
      " 35  month_dec            4521 non-null   bool \n",
      " 36  month_feb            4521 non-null   bool \n",
      " 37  month_jan            4521 non-null   bool \n",
      " 38  month_jul            4521 non-null   bool \n",
      " 39  month_jun            4521 non-null   bool \n",
      " 40  month_mar            4521 non-null   bool \n",
      " 41  month_may            4521 non-null   bool \n",
      " 42  month_nov            4521 non-null   bool \n",
      " 43  month_oct            4521 non-null   bool \n",
      " 44  month_sep            4521 non-null   bool \n",
      " 45  poutcome_failure     4521 non-null   bool \n",
      " 46  poutcome_other       4521 non-null   bool \n",
      " 47  poutcome_success     4521 non-null   bool \n",
      " 48  poutcome_unknown     4521 non-null   bool \n",
      "dtypes: bool(42), int64(7)\n",
      "memory usage: 432.8 KB\n"
     ]
    }
   ],
   "execution_count": 21
  },
  {
   "metadata": {
    "ExecuteTime": {
     "end_time": "2024-10-16T15:10:39.435549Z",
     "start_time": "2024-10-16T15:10:39.305196Z"
    }
   },
   "cell_type": "code",
   "source": [
    "# # Split the data into training and validation sets (80% train, 20% validation)\n",
    "# X_train, X_val, y_train, y_val = train_test_split(X, y, test_size=0.2, random_state=42)\n",
    "\n",
    "X_train_val, X_test, y_train_val, y_test = train_test_split(data, y, test_size=0.2, random_state=42)\n",
    "X_train, X_val, y_train, y_val = train_test_split(X_train_val, y_train_val, test_size=0.25, random_state=42)\n",
    "\n",
    "# Train the Logistic Regression model\n",
    "model = LogisticRegression(solver='liblinear', C=1.0, max_iter=1000, random_state=42)\n",
    "model.fit(X_train, y_train)\n",
    "\n",
    "# Predict on the validation dataset\n",
    "y_pred = model.predict(X_val)\n",
    "\n",
    "# Calculate accuracy\n",
    "accuracy = accuracy_score(y_val, y_pred)\n",
    "\n",
    "# Print rounded accuracy to 2 decimal places\n",
    "print(f\"Accuracy: {accuracy:.2f}\")"
   ],
   "id": "8ff34c999ace727f",
   "outputs": [
    {
     "name": "stdout",
     "output_type": "stream",
     "text": [
      "Accuracy: 0.89\n"
     ]
    }
   ],
   "execution_count": 24
  },
  {
   "metadata": {},
   "cell_type": "markdown",
   "source": "Least useful feature",
   "id": "a0a275c19812de1a"
  },
  {
   "metadata": {
    "ExecuteTime": {
     "end_time": "2024-10-16T15:14:10.555751Z",
     "start_time": "2024-10-16T15:14:06.501275Z"
    }
   },
   "cell_type": "code",
   "source": [
    "# Step 1: Train the original model with all features\n",
    "model.fit(X_train, y_train)\n",
    "original_accuracy = accuracy_score(y_val, model.predict(X_val))\n",
    "print(f\"Original Accuracy: {original_accuracy:.2f}\")\n",
    "\n",
    "# Step 2: Perform feature elimination and track accuracies\n",
    "feature_accuracies = {}\n",
    "\n",
    "for i, feature in enumerate(data.columns):\n",
    "    # Create a copy of the data excluding the current feature\n",
    "    X_train_temp = X_train.drop(columns=[feature])\n",
    "    X_val_temp = X_val.drop(columns=[feature])\n",
    "    \n",
    "    # Train the model without the current feature\n",
    "    model.fit(X_train_temp, y_train)\n",
    "    \n",
    "    # Calculate accuracy without the feature\n",
    "    accuracy_without_feature = accuracy_score(y_val, model.predict(X_val_temp))\n",
    "    \n",
    "    # Record the accuracy and the difference from the original\n",
    "    feature_accuracies[feature] = original_accuracy - accuracy_without_feature\n",
    "    print(f\"Accuracy without {feature}: {accuracy_without_feature:.2f} (Difference: {original_accuracy - accuracy_without_feature:.2f})\")\n",
    "\n",
    "# Step 3: Find the feature with the smallest difference\n",
    "least_useful_feature = min(feature_accuracies, key=feature_accuracies.get)\n",
    "print(f\"Least useful feature: {least_useful_feature}\")"
   ],
   "id": "347ff97aedb2e698",
   "outputs": [
    {
     "name": "stdout",
     "output_type": "stream",
     "text": [
      "Original Accuracy: 0.89\n",
      "Accuracy without age: 0.89 (Difference: 0.00)\n",
      "Accuracy without balance: 0.89 (Difference: 0.00)\n",
      "Accuracy without day: 0.89 (Difference: -0.00)\n",
      "Accuracy without duration: 0.87 (Difference: 0.02)\n",
      "Accuracy without campaign: 0.89 (Difference: 0.00)\n",
      "Accuracy without pdays: 0.89 (Difference: 0.00)\n",
      "Accuracy without previous: 0.89 (Difference: 0.00)\n",
      "Accuracy without job_admin.: 0.89 (Difference: 0.00)\n",
      "Accuracy without job_blue-collar: 0.89 (Difference: 0.00)\n",
      "Accuracy without job_entrepreneur: 0.89 (Difference: 0.00)\n",
      "Accuracy without job_housemaid: 0.89 (Difference: 0.00)\n",
      "Accuracy without job_management: 0.89 (Difference: 0.00)\n",
      "Accuracy without job_retired: 0.89 (Difference: -0.00)\n",
      "Accuracy without job_self-employed: 0.89 (Difference: 0.00)\n",
      "Accuracy without job_services: 0.89 (Difference: 0.00)\n",
      "Accuracy without job_student: 0.89 (Difference: 0.00)\n",
      "Accuracy without job_technician: 0.89 (Difference: -0.00)\n",
      "Accuracy without job_unemployed: 0.89 (Difference: 0.00)\n",
      "Accuracy without job_unknown: 0.89 (Difference: 0.00)\n",
      "Accuracy without marital_divorced: 0.89 (Difference: 0.00)\n",
      "Accuracy without marital_married: 0.89 (Difference: 0.00)\n",
      "Accuracy without marital_single: 0.89 (Difference: 0.00)\n",
      "Accuracy without education_primary: 0.89 (Difference: 0.00)\n",
      "Accuracy without education_secondary: 0.89 (Difference: 0.00)\n",
      "Accuracy without education_tertiary: 0.89 (Difference: 0.00)\n",
      "Accuracy without education_unknown: 0.89 (Difference: 0.00)\n",
      "Accuracy without housing_no: 0.89 (Difference: 0.00)\n",
      "Accuracy without housing_yes: 0.89 (Difference: 0.00)\n",
      "Accuracy without loan_no: 0.89 (Difference: 0.00)\n",
      "Accuracy without loan_yes: 0.89 (Difference: 0.00)\n",
      "Accuracy without contact_cellular: 0.89 (Difference: 0.00)\n",
      "Accuracy without contact_telephone: 0.89 (Difference: 0.00)\n",
      "Accuracy without contact_unknown: 0.89 (Difference: 0.00)\n",
      "Accuracy without month_apr: 0.89 (Difference: 0.00)\n",
      "Accuracy without month_aug: 0.89 (Difference: 0.00)\n",
      "Accuracy without month_dec: 0.89 (Difference: 0.00)\n",
      "Accuracy without month_feb: 0.89 (Difference: 0.00)\n",
      "Accuracy without month_jan: 0.89 (Difference: 0.00)\n",
      "Accuracy without month_jul: 0.89 (Difference: 0.00)\n",
      "Accuracy without month_jun: 0.89 (Difference: 0.00)\n",
      "Accuracy without month_mar: 0.89 (Difference: 0.00)\n",
      "Accuracy without month_may: 0.89 (Difference: 0.00)\n",
      "Accuracy without month_nov: 0.89 (Difference: 0.00)\n",
      "Accuracy without month_oct: 0.89 (Difference: 0.00)\n",
      "Accuracy without month_sep: 0.89 (Difference: 0.00)\n",
      "Accuracy without poutcome_failure: 0.89 (Difference: 0.00)\n",
      "Accuracy without poutcome_other: 0.89 (Difference: 0.00)\n",
      "Accuracy without poutcome_success: 0.89 (Difference: 0.00)\n",
      "Accuracy without poutcome_unknown: 0.89 (Difference: 0.00)\n",
      "Least useful feature: day\n"
     ]
    }
   ],
   "execution_count": 26
  },
  {
   "metadata": {
    "ExecuteTime": {
     "end_time": "2024-10-16T15:18:00.739414Z",
     "start_time": "2024-10-16T15:18:00.008457Z"
    }
   },
   "cell_type": "code",
   "source": [
    "# List of C values to try\n",
    "C_values = [0.01, 0.1, 1, 10, 100]\n",
    "\n",
    "# Dictionary to store the accuracy for each C value\n",
    "C_accuracies = {}\n",
    "\n",
    "for C in C_values:\n",
    "    # Train the logistic regression model with the current value of C\n",
    "    model = LogisticRegression(solver='liblinear', C=C, max_iter=1000, random_state=42)\n",
    "    model.fit(X_train, y_train)\n",
    "    \n",
    "    # Predict on the validation dataset\n",
    "    y_pred = model.predict(X_val)\n",
    "    \n",
    "    # Calculate accuracy and round to 3 decimal digits\n",
    "    accuracy = accuracy_score(y_val, y_pred)\n",
    "    C_accuracies[C] = round(accuracy, 3)\n",
    "    print(f\"Accuracy with C={C}: {C_accuracies[C]}\")\n",
    "\n",
    "# Display accuracies for all C values\n",
    "print(\"\\nAccuracies for different values of C:\")\n",
    "for C, accuracy in C_accuracies.items():\n",
    "    print(f\"C={C}: Accuracy = {accuracy}\")"
   ],
   "id": "66e35b73bb3f9748",
   "outputs": [
    {
     "name": "stdout",
     "output_type": "stream",
     "text": [
      "Accuracy with C=0.01: 0.877\n",
      "Accuracy with C=0.1: 0.884\n",
      "Accuracy with C=1: 0.892\n",
      "Accuracy with C=10: 0.89\n",
      "Accuracy with C=100: 0.893\n",
      "\n",
      "Accuracies for different values of C:\n",
      "C=0.01: Accuracy = 0.877\n",
      "C=0.1: Accuracy = 0.884\n",
      "C=1: Accuracy = 0.892\n",
      "C=10: Accuracy = 0.89\n",
      "C=100: Accuracy = 0.893\n"
     ]
    }
   ],
   "execution_count": 27
  },
  {
   "metadata": {},
   "cell_type": "code",
   "outputs": [],
   "execution_count": null,
   "source": "",
   "id": "dd3ee3f905687df5"
  }
 ],
 "metadata": {
  "kernelspec": {
   "display_name": "Python 3",
   "language": "python",
   "name": "python3"
  },
  "language_info": {
   "codemirror_mode": {
    "name": "ipython",
    "version": 2
   },
   "file_extension": ".py",
   "mimetype": "text/x-python",
   "name": "python",
   "nbconvert_exporter": "python",
   "pygments_lexer": "ipython2",
   "version": "2.7.6"
  }
 },
 "nbformat": 4,
 "nbformat_minor": 5
}
