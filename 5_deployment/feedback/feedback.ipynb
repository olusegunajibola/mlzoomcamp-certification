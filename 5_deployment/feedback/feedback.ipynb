{
 "cells": [
  {
   "metadata": {
    "ExecuteTime": {
     "end_time": "2024-10-30T05:35:19.063670Z",
     "start_time": "2024-10-30T05:35:19.058090Z"
    }
   },
   "cell_type": "code",
   "source": "import json, os, requests",
   "id": "1cde1398813456f9",
   "outputs": [],
   "execution_count": 24
  },
  {
   "metadata": {
    "ExecuteTime": {
     "end_time": "2024-10-30T05:33:45.088967Z",
     "start_time": "2024-10-30T05:33:45.077438Z"
    }
   },
   "cell_type": "code",
   "source": "os.getcwd()",
   "id": "415f40fe73c7ff5d",
   "outputs": [
    {
     "data": {
      "text/plain": [
       "'D:\\\\Data\\\\PyCharmProjects\\\\mlzoomcamp-certification\\\\5_deployment\\\\feedback'"
      ]
     },
     "execution_count": 21,
     "metadata": {},
     "output_type": "execute_result"
    }
   ],
   "execution_count": 21
  },
  {
   "metadata": {
    "ExecuteTime": {
     "end_time": "2024-10-30T05:24:51.757869Z",
     "start_time": "2024-10-30T05:24:49.351555Z"
    }
   },
   "cell_type": "code",
   "source": "!pipenv --version",
   "id": "be0f7805a7e75ca0",
   "outputs": [
    {
     "name": "stdout",
     "output_type": "stream",
     "text": [
      "pipenv, version 2022.7.4\n",
      "\n"
     ]
    },
    {
     "name": "stderr",
     "output_type": "stream",
     "text": [
      "C:\\Users\\oluse\\anaconda3\\envs\\ml-zoomcamp\\Lib\\site-packages\\pipenv\\vendor\\attr\\_make.py:876: RuntimeWarning: Running interpreter doesn't sufficiently support code object introspection.  Some features like bare super() or accessing __class__ will not work with slotted classes.\n",
      "  set_closure_cell(cell, cls)\n"
     ]
    }
   ],
   "execution_count": 11
  },
  {
   "metadata": {
    "collapsed": true,
    "ExecuteTime": {
     "end_time": "2024-10-30T05:30:59.447250Z",
     "start_time": "2024-10-30T05:30:59.436117Z"
    }
   },
   "cell_type": "code",
   "source": [
    "# Path to your Pipfile.lock\n",
    "pipfile_lock_path = 'D:\\Data\\PyCharmProjects\\mlzoomcamp-certification\\Pipfile.lock'\n",
    "\n",
    "# Read and parse the Pipfile.lock file\n",
    "with open(pipfile_lock_path, 'r') as file:\n",
    "    pipfile_data = json.load(file)\n",
    "\n",
    "# Search for the first hash for scikit-learn in both default and develop sections\n",
    "scikit_learn_hash = None\n",
    "for section in ['default', 'develop']:\n",
    "    if 'scikit-learn' in pipfile_data.get(section, {}):\n",
    "        scikit_learn_data = pipfile_data[section]['scikit-learn']\n",
    "        scikit_learn_hash = scikit_learn_data['hashes'][0] if 'hashes' in scikit_learn_data else None\n",
    "        break\n",
    "\n",
    "# Output the result\n",
    "if scikit_learn_hash:\n",
    "    print(\"First hash for scikit-learn:\", scikit_learn_hash)\n",
    "# else:\n",
    "#     print(\"scikit-learn not found in Pipfile.lock or no hashes available.\")"
   ],
   "id": "initial_id",
   "outputs": [
    {
     "name": "stdout",
     "output_type": "stream",
     "text": [
      "First hash for scikit-learn: sha256:03b6158efa3faaf1feea3faa884c840ebd61b6484167c711548fce208ea09445\n"
     ]
    }
   ],
   "execution_count": 17
  },
  {
   "metadata": {
    "ExecuteTime": {
     "end_time": "2024-10-30T05:34:55.610534Z",
     "start_time": "2024-10-30T05:34:53.726132Z"
    }
   },
   "cell_type": "code",
   "source": [
    "# URLs \n",
    "urls = [\n",
    "    \"https://raw.githubusercontent.com/DataTalksClub/machine-learning-zoomcamp/master/cohorts/2024/05-deployment/homework/model1.bin\",\n",
    "    \"https://raw.githubusercontent.com/DataTalksClub/machine-learning-zoomcamp/master/cohorts/2024/05-deployment/homework/dv.bin\"\n",
    "]\n",
    "\n",
    "# Download each file\n",
    "for url in urls:\n",
    "    filename = url.split(\"/\")[-1]  # Get the filename from the URL\n",
    "    response = requests.get(url)\n",
    "    if response.status_code == 200:\n",
    "        with open(filename, 'wb') as file:\n",
    "            file.write(response.content)\n",
    "        print(f\"Downloaded {filename}\")\n",
    "    else:\n",
    "        print(f\"Failed to download {filename}\")"
   ],
   "id": "cfde27e4e7af6bf0",
   "outputs": [
    {
     "name": "stdout",
     "output_type": "stream",
     "text": [
      "Downloaded model1.bin\n",
      "Downloaded dv.bin\n"
     ]
    }
   ],
   "execution_count": 23
  },
  {
   "metadata": {},
   "cell_type": "code",
   "outputs": [],
   "execution_count": null,
   "source": "",
   "id": "981baa55840865d0"
  }
 ],
 "metadata": {
  "kernelspec": {
   "display_name": "Python 3",
   "language": "python",
   "name": "python3"
  },
  "language_info": {
   "codemirror_mode": {
    "name": "ipython",
    "version": 2
   },
   "file_extension": ".py",
   "mimetype": "text/x-python",
   "name": "python",
   "nbconvert_exporter": "python",
   "pygments_lexer": "ipython2",
   "version": "2.7.6"
  }
 },
 "nbformat": 4,
 "nbformat_minor": 5
}
